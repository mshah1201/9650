{
  "nbformat": 4,
  "nbformat_minor": 0,
  "metadata": {
    "colab": {
      "provenance": [],
      "include_colab_link": true
    },
    "kernelspec": {
      "name": "python3",
      "display_name": "Python 3"
    },
    "language_info": {
      "name": "python"
    }
  },
  "cells": [
    {
      "cell_type": "markdown",
      "metadata": {
        "id": "view-in-github",
        "colab_type": "text"
      },
      "source": [
        "<a href=\"https://colab.research.google.com/github/mshah1201/9650/blob/main/Group%2012.ipynb\" target=\"_parent\"><img src=\"https://colab.research.google.com/assets/colab-badge.svg\" alt=\"Open In Colab\"/></a>"
      ]
    },
    {
      "cell_type": "markdown",
      "source": [
        "Introduction function"
      ],
      "metadata": {
        "id": "SCbde_PqdjwA"
      }
    },
    {
      "cell_type": "code",
      "execution_count": null,
      "metadata": {
        "id": "aZe84bd2Z2Yd",
        "colab": {
          "base_uri": "https://localhost:8080/"
        },
        "outputId": "b6187787-5d02-4779-fa1b-9b70d61e9bd7"
      },
      "outputs": [
        {
          "name": "stdout",
          "output_type": "stream",
          "text": [
            "Enter your name:s\n"
          ]
        }
      ],
      "source": [
        "\n",
        "def introduction():\n",
        "  name =input('Enter your name:')\n",
        "  print(name)\n",
        "  print('Description: This program will ask the user to input 3 integers. \\n\n",
        "   The program will then calculate the average of these numbers.\\n\n",
        "   This program will continue when the user types in a special combination')"
      ]
    },
    {
      "cell_type": "markdown",
      "source": [
        "Input function"
      ],
      "metadata": {
        "id": "dCxAgm7pdmtt"
      }
    },
    {
      "cell_type": "code",
      "source": [
        "  num1 = float(input(\"Enter the first number or enter 404 to stop the program: \"))\n",
        "  num2 = float(input(\"Enter the second number or enter 404 to stop the program: \"))\n",
        "  num3 = float(input(\"Enter the third number or enter 404 to stop the program: \"))\n",
        "\n",
        "\n",
        "  if num1 == 404 and num2 == 404 and num3 == 404:\n",
        "    print(\"Program Stopped\")\n",
        "    break"
      ],
      "metadata": {
        "id": "iVrhFkvAdjGr"
      },
      "execution_count": null,
      "outputs": []
    },
    {
      "cell_type": "markdown",
      "source": [
        "findng the average"
      ],
      "metadata": {
        "id": "m8BaFz6j0Rvo"
      }
    },
    {
      "cell_type": "code",
      "source": [
        "def findaverage"
      ],
      "metadata": {
        "id": "AisRcUmLdF2B"
      },
      "execution_count": null,
      "outputs": []
    },
    {
      "cell_type": "code",
      "source": [
        "def main():\n",
        "  introduction()\n",
        ""
      ],
      "metadata": {
        "id": "_z4b3KdciB5N"
      },
      "execution_count": null,
      "outputs": []
    }
  ]
}